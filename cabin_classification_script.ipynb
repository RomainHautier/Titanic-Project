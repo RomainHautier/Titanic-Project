{
 "cells": [
  {
   "cell_type": "markdown",
   "metadata": {},
   "source": [
    "This script aims to devise a clustering method to impute cabins/groups of cabins for the passengers of the titanic as a means to increase the precision of the subsequent classification. This is part of the feature engineering procedure. "
   ]
  },
  {
   "cell_type": "code",
   "execution_count": 72,
   "metadata": {},
   "outputs": [
    {
     "name": "stdout",
     "output_type": "stream",
     "text": [
      "C    59\n",
      "B    47\n",
      "D    33\n",
      "E    32\n",
      "A    15\n",
      "F    13\n",
      "G     4\n",
      "T     1\n",
      "Name: Cabin, dtype: int64\n",
      "                  Age      Fare\n",
      "PassengerId                    \n",
      "2            0.571831  0.786845\n",
      "4            0.365167  0.420730\n",
      "7            1.674039  0.395814\n",
      "11          -1.770360 -0.312172\n",
      "12           1.949591 -0.113846\n",
      "...               ...       ...\n",
      "872          1.191823  0.409741\n",
      "873          0.227391 -0.547748\n",
      "880          1.811815  1.025945\n",
      "888         -0.737041 -0.044381\n",
      "890         -0.254825 -0.044381\n",
      "\n",
      "[204 rows x 2 columns]\n",
      "Survived    0\n",
      "Pclass      0\n",
      "Sex         0\n",
      "Age         0\n",
      "Fare        0\n",
      "Cabin       0\n",
      "dtype: int64\n",
      "             Survived  Pclass  Sex       Age      Fare  Cabin\n",
      "PassengerId                                                  \n",
      "2                   1       1    1  0.571831  0.786845      2\n",
      "4                   1       1    1  0.365167  0.420730      2\n",
      "7                   0       1    0  1.674039  0.395814      4\n",
      "11                  1       3    1 -1.770360 -0.312172      6\n",
      "12                  1       1    1  1.949591 -0.113846      2\n",
      "22                  1       2    0  0.296279 -0.386671      3\n",
      "24                  1       1    0 -0.117049  0.066360      0\n",
      "28                  0       1    0 -0.737041  4.647001      2\n",
      "32                  1       1    1  0.422296  2.301729      1\n",
      "53                  1       1    1  1.329599  0.896497      3\n",
      "55                  0       1    0  2.431806  0.599510      1\n",
      "56                  1       1    0  0.422296  0.066360      2\n",
      "62                  1       1    1  0.571831  0.962353      1\n",
      "63                  0       1    0  1.054047  1.032321      2\n",
      "67                  1       2    1 -0.048161 -0.437007      5\n",
      "76                  0       3    0 -0.323713 -0.494391      5\n",
      "89                  1       1    1 -0.461489  4.647001      2\n",
      "93                  0       1    0  1.122935  0.583318      4\n",
      "97                  0       1    0  2.845134  0.049330      0\n",
      "98                  1       1    0 -0.461489  0.627278      3\n",
      "Survived    0\n",
      "Pclass      0\n",
      "Sex         0\n",
      "Age         0\n",
      "Fare        0\n",
      "Cabin       0\n",
      "dtype: int64\n"
     ]
    },
    {
     "data": {
      "text/html": [
       "<div>\n",
       "<style scoped>\n",
       "    .dataframe tbody tr th:only-of-type {\n",
       "        vertical-align: middle;\n",
       "    }\n",
       "\n",
       "    .dataframe tbody tr th {\n",
       "        vertical-align: top;\n",
       "    }\n",
       "\n",
       "    .dataframe thead th {\n",
       "        text-align: right;\n",
       "    }\n",
       "</style>\n",
       "<table border=\"1\" class=\"dataframe\">\n",
       "  <thead>\n",
       "    <tr style=\"text-align: right;\">\n",
       "      <th></th>\n",
       "      <th>Survived</th>\n",
       "      <th>Pclass</th>\n",
       "      <th>Sex</th>\n",
       "      <th>Age</th>\n",
       "      <th>Fare</th>\n",
       "      <th>Cabin</th>\n",
       "    </tr>\n",
       "    <tr>\n",
       "      <th>PassengerId</th>\n",
       "      <th></th>\n",
       "      <th></th>\n",
       "      <th></th>\n",
       "      <th></th>\n",
       "      <th></th>\n",
       "      <th></th>\n",
       "    </tr>\n",
       "  </thead>\n",
       "  <tbody>\n",
       "    <tr>\n",
       "      <th>2</th>\n",
       "      <td>1</td>\n",
       "      <td>1</td>\n",
       "      <td>1</td>\n",
       "      <td>0.571831</td>\n",
       "      <td>0.786845</td>\n",
       "      <td>2</td>\n",
       "    </tr>\n",
       "    <tr>\n",
       "      <th>4</th>\n",
       "      <td>1</td>\n",
       "      <td>1</td>\n",
       "      <td>1</td>\n",
       "      <td>0.365167</td>\n",
       "      <td>0.420730</td>\n",
       "      <td>2</td>\n",
       "    </tr>\n",
       "    <tr>\n",
       "      <th>7</th>\n",
       "      <td>0</td>\n",
       "      <td>1</td>\n",
       "      <td>0</td>\n",
       "      <td>1.674039</td>\n",
       "      <td>0.395814</td>\n",
       "      <td>4</td>\n",
       "    </tr>\n",
       "    <tr>\n",
       "      <th>11</th>\n",
       "      <td>1</td>\n",
       "      <td>3</td>\n",
       "      <td>1</td>\n",
       "      <td>-1.770360</td>\n",
       "      <td>-0.312172</td>\n",
       "      <td>6</td>\n",
       "    </tr>\n",
       "    <tr>\n",
       "      <th>12</th>\n",
       "      <td>1</td>\n",
       "      <td>1</td>\n",
       "      <td>1</td>\n",
       "      <td>1.949591</td>\n",
       "      <td>-0.113846</td>\n",
       "      <td>2</td>\n",
       "    </tr>\n",
       "  </tbody>\n",
       "</table>\n",
       "</div>"
      ],
      "text/plain": [
       "             Survived  Pclass  Sex       Age      Fare  Cabin\n",
       "PassengerId                                                  \n",
       "2                   1       1    1  0.571831  0.786845      2\n",
       "4                   1       1    1  0.365167  0.420730      2\n",
       "7                   0       1    0  1.674039  0.395814      4\n",
       "11                  1       3    1 -1.770360 -0.312172      6\n",
       "12                  1       1    1  1.949591 -0.113846      2"
      ]
     },
     "execution_count": 72,
     "metadata": {},
     "output_type": "execute_result"
    }
   ],
   "source": [
    "## Importing the libraries.\n",
    "\n",
    "# Basic libraries\n",
    "import pandas as pd\n",
    "import numpy as np\n",
    "from sklearn.preprocessing import LabelEncoder, StandardScaler\n",
    "import matplotlib.pyplot as plt\n",
    "import seaborn as sns\n",
    "from sklearn.decomposition import PCA\n",
    "import plotly.express as px\n",
    "\n",
    "# Clustering Libraries\n",
    "from sklearn.cluster import (\n",
    "    DBSCAN,\n",
    "    KMeans,\n",
    "    AgglomerativeClustering,\n",
    "    MeanShift,\n",
    "    AffinityPropagation,\n",
    ")\n",
    "\n",
    "data = pd.read_csv('train.csv', index_col = 0)\n",
    "data.head(50)\n",
    "\n",
    "y = data['Survived']\n",
    "\n",
    "scaler = StandardScaler()\n",
    "\n",
    "standardized_columns = ['Age', 'Fare']\n",
    "\n",
    "data[standardized_columns] = scaler.fit_transform(data[standardized_columns])\n",
    "\n",
    "data = data.drop(['Ticket', 'Name', 'Embarked', 'Parch', 'SibSp'], axis = 1)\n",
    "data = data.dropna(subset = ['Cabin'])\n",
    "\n",
    "original_cabins = data['Cabin']\n",
    "data['Cabin'] = data['Cabin'].apply(lambda x: x.split(' ')[0][0])\n",
    "\n",
    "data['Sex'] = data['Sex'].map({'male': 0, 'female': 1})\n",
    "data.head()\n",
    "\n",
    "label_encoder = LabelEncoder()\n",
    "\n",
    "unique_cabins = data['Cabin'].unique()\n",
    "print(data['Cabin'].value_counts())\n",
    "\n",
    "\n",
    "data['Cabin'] = label_encoder.fit_transform(data['Cabin'])\n",
    "\n",
    "\n",
    "data['Age'].fillna(data['Age'].mean(), inplace= True)\n",
    "\n",
    "print(data[['Age', 'Fare']])\n",
    "\n",
    "print(data.isna().sum())\n",
    "\n",
    "print(data.head(20))\n",
    "\n",
    "X = data.copy()\n",
    "print(X.isna().sum())\n",
    "\n",
    "# Standardizing the numeric variables 'Age' and 'Fare'\n",
    "\"\"\" scaler = StandardScaler()\n",
    "\n",
    "standardized_columns = ['Age', 'Fare']\n",
    "\n",
    "X[standardized_columns] = scaler.fit_transform(X[standardized_columns]) \"\"\"\n",
    "\n",
    "X.head()\n",
    "\n"
   ]
  },
  {
   "cell_type": "code",
   "execution_count": 73,
   "metadata": {},
   "outputs": [
    {
     "name": "stdout",
     "output_type": "stream",
     "text": [
      "             Survived  Pclass  Sex       Age      Fare  Cabin\n",
      "PassengerId                                                  \n",
      "2                   1       1    1  0.571831  0.786845      2\n",
      "4                   1       1    1  0.365167  0.420730      2\n",
      "7                   0       1    0  1.674039  0.395814      4\n",
      "11                  1       3    1 -1.770360 -0.312172      6\n",
      "12                  1       1    1  1.949591 -0.113846      2\n",
      "...               ...     ...  ...       ...       ...    ...\n",
      "872                 1       1    1  1.191823  0.409741      3\n",
      "873                 0       1    0  0.227391 -0.547748      1\n",
      "880                 1       1    1  1.811815  1.025945      2\n",
      "888                 1       1    1 -0.737041 -0.044381      1\n",
      "890                 1       1    0 -0.254825 -0.044381      2\n",
      "\n",
      "[204 rows x 6 columns]\n",
      "Index(['Survived', 'Pclass', 'Sex', 'Age', 'Fare', 'Cabin'], dtype='object')\n"
     ]
    },
    {
     "name": "stderr",
     "output_type": "stream",
     "text": [
      "c:\\Users\\hauti\\anaconda3\\lib\\site-packages\\sklearn\\cluster\\_kmeans.py:1429: UserWarning:\n",
      "\n",
      "KMeans is known to have a memory leak on Windows with MKL, when there are less chunks than available threads. You can avoid it by setting the environment variable OMP_NUM_THREADS=1.\n",
      "\n",
      "c:\\Users\\hauti\\anaconda3\\lib\\site-packages\\sklearn\\cluster\\_kmeans.py:1429: UserWarning:\n",
      "\n",
      "KMeans is known to have a memory leak on Windows with MKL, when there are less chunks than available threads. You can avoid it by setting the environment variable OMP_NUM_THREADS=1.\n",
      "\n",
      "c:\\Users\\hauti\\anaconda3\\lib\\site-packages\\sklearn\\cluster\\_kmeans.py:1429: UserWarning:\n",
      "\n",
      "KMeans is known to have a memory leak on Windows with MKL, when there are less chunks than available threads. You can avoid it by setting the environment variable OMP_NUM_THREADS=1.\n",
      "\n",
      "c:\\Users\\hauti\\anaconda3\\lib\\site-packages\\sklearn\\cluster\\_kmeans.py:1429: UserWarning:\n",
      "\n",
      "KMeans is known to have a memory leak on Windows with MKL, when there are less chunks than available threads. You can avoid it by setting the environment variable OMP_NUM_THREADS=1.\n",
      "\n",
      "c:\\Users\\hauti\\anaconda3\\lib\\site-packages\\sklearn\\cluster\\_kmeans.py:1429: UserWarning:\n",
      "\n",
      "KMeans is known to have a memory leak on Windows with MKL, when there are less chunks than available threads. You can avoid it by setting the environment variable OMP_NUM_THREADS=1.\n",
      "\n",
      "c:\\Users\\hauti\\anaconda3\\lib\\site-packages\\sklearn\\cluster\\_kmeans.py:1429: UserWarning:\n",
      "\n",
      "KMeans is known to have a memory leak on Windows with MKL, when there are less chunks than available threads. You can avoid it by setting the environment variable OMP_NUM_THREADS=1.\n",
      "\n",
      "c:\\Users\\hauti\\anaconda3\\lib\\site-packages\\sklearn\\cluster\\_kmeans.py:1429: UserWarning:\n",
      "\n",
      "KMeans is known to have a memory leak on Windows with MKL, when there are less chunks than available threads. You can avoid it by setting the environment variable OMP_NUM_THREADS=1.\n",
      "\n",
      "c:\\Users\\hauti\\anaconda3\\lib\\site-packages\\sklearn\\cluster\\_kmeans.py:1429: UserWarning:\n",
      "\n",
      "KMeans is known to have a memory leak on Windows with MKL, when there are less chunks than available threads. You can avoid it by setting the environment variable OMP_NUM_THREADS=1.\n",
      "\n",
      "c:\\Users\\hauti\\anaconda3\\lib\\site-packages\\sklearn\\cluster\\_kmeans.py:1429: UserWarning:\n",
      "\n",
      "KMeans is known to have a memory leak on Windows with MKL, when there are less chunks than available threads. You can avoid it by setting the environment variable OMP_NUM_THREADS=1.\n",
      "\n",
      "c:\\Users\\hauti\\anaconda3\\lib\\site-packages\\sklearn\\cluster\\_kmeans.py:1429: UserWarning:\n",
      "\n",
      "KMeans is known to have a memory leak on Windows with MKL, when there are less chunks than available threads. You can avoid it by setting the environment variable OMP_NUM_THREADS=1.\n",
      "\n",
      "c:\\Users\\hauti\\anaconda3\\lib\\site-packages\\sklearn\\cluster\\_kmeans.py:1429: UserWarning:\n",
      "\n",
      "KMeans is known to have a memory leak on Windows with MKL, when there are less chunks than available threads. You can avoid it by setting the environment variable OMP_NUM_THREADS=1.\n",
      "\n",
      "c:\\Users\\hauti\\anaconda3\\lib\\site-packages\\sklearn\\cluster\\_kmeans.py:1429: UserWarning:\n",
      "\n",
      "KMeans is known to have a memory leak on Windows with MKL, when there are less chunks than available threads. You can avoid it by setting the environment variable OMP_NUM_THREADS=1.\n",
      "\n",
      "c:\\Users\\hauti\\anaconda3\\lib\\site-packages\\sklearn\\cluster\\_kmeans.py:1429: UserWarning:\n",
      "\n",
      "KMeans is known to have a memory leak on Windows with MKL, when there are less chunks than available threads. You can avoid it by setting the environment variable OMP_NUM_THREADS=1.\n",
      "\n",
      "c:\\Users\\hauti\\anaconda3\\lib\\site-packages\\sklearn\\cluster\\_kmeans.py:1429: UserWarning:\n",
      "\n",
      "KMeans is known to have a memory leak on Windows with MKL, when there are less chunks than available threads. You can avoid it by setting the environment variable OMP_NUM_THREADS=1.\n",
      "\n"
     ]
    },
    {
     "data": {
      "text/plain": [
       "<AxesSubplot:>"
      ]
     },
     "execution_count": 73,
     "metadata": {},
     "output_type": "execute_result"
    },
    {
     "data": {
      "image/png": "[encoded data removed]",
      "text/plain": [
       "<Figure size 432x288 with 1 Axes>"
      ]
     },
     "metadata": {
      "needs_background": "light"
     },
     "output_type": "display_data"
    }
   ],
   "source": [
    "import os\n",
    "os.environ[\"OMP_NUM_THREADS\"] = \"1\"\n",
    "os.environ[\"KMP_DUPLICATE_LIB_OK\"] = \"True\"\n",
    "\n",
    "## Building a KMeans clustering operation\n",
    "print(X)\n",
    "pca = PCA(n_components = 3)\n",
    "X_pca = pca.fit_transform(X)\n",
    "print(X.columns)\n",
    "\n",
    "# Initialising the KMeans algorithm and using the elbow method to \n",
    "# determine the optimal number of clusters.\n",
    "\n",
    "inertia = []\n",
    "\n",
    "for i in range(1,15):\n",
    "    KM = KMeans(init = 'k-means++', n_clusters = i, random_state = 42)\n",
    "    train_results = KM.fit(X_pca)\n",
    "    inertia.append(KM.inertia_)\n",
    "\n",
    "plt.figure()\n",
    "sns.lineplot(x = list(range(1,15)), y = inertia, marker = 'o')\n"
   ]
  },
  {
   "cell_type": "code",
   "execution_count": 74,
   "metadata": {},
   "outputs": [
    {
     "name": "stdout",
     "output_type": "stream",
     "text": [
      "[[-2.62771737e-01 -3.01205464e-01 -8.86563120e-02]\n",
      " [ 9.18175530e-04 -4.58466215e-01 -3.71551269e-01]\n",
      " [ 1.36732849e+00 -2.81971180e-02  1.65320086e+00]\n",
      " [ 3.79794321e+00  2.55448842e+00 -1.15768278e+00]\n",
      " [ 2.76617791e-01 -1.47722626e+00  8.82149815e-01]\n",
      " [ 1.45439690e+00 -3.56992597e-01 -2.98867453e-01]\n",
      " [-1.11695517e+00 -1.77714045e+00 -1.54556924e+00]\n",
      " [-2.81402272e+00  2.62865636e+00 -2.24463582e-02]\n",
      " [-1.99477686e+00  1.78857931e-01 -1.60579898e-01]\n",
      " [ 3.17078687e-01  4.57205548e-02  9.65673868e-01]\n",
      " [-9.14111142e-01 -1.98252419e+00  1.31456632e+00]\n",
      " [ 2.50100690e-01 -8.20861340e-01 -3.59604612e-01]\n",
      " [-1.08259520e+00 -7.75333717e-01 -3.95268542e-01]\n",
      " [-4.32665507e-01 -5.27008526e-01  5.70297496e-01]\n",
      " [ 2.89842754e+00  1.03812166e+00  3.38163968e-02]\n",
      " [ 3.16704260e+00  1.04950344e+00 -1.18305264e-01]\n",
      " [-2.85681878e+00  2.70083971e+00  5.54492586e-02]\n",
      " [ 1.27035713e+00  3.27195909e-01  1.21755949e+00]\n",
      " [-1.25896500e+00 -3.11267476e+00  1.17444855e+00]\n",
      " [ 6.14839523e-01  5.13266744e-01 -6.32275274e-01]\n",
      " [ 4.47971434e-01  6.72731930e-01 -5.70128416e-01]\n",
      " [-4.94193799e-03 -1.00653464e+00  5.18477440e-01]\n",
      " [-3.31886548e+00  1.68610542e+00 -1.58114882e-01]\n",
      " [ 2.15068746e+00  3.79791646e-01 -9.40174435e-02]\n",
      " [ 3.16211726e-01 -2.78371248e-01  1.43872652e+00]\n",
      " [ 2.89337181e+00  1.12200410e+00  4.56428573e-01]\n",
      " [ 1.13518377e+00  2.34194830e-01 -1.13874174e+00]\n",
      " [ 1.97579262e-02 -7.03577414e-01 -8.42005329e-02]\n",
      " [-9.88797537e-01 -5.70026993e-01 -1.08631968e+00]\n",
      " [ 2.68074055e+00  8.42251621e-01  7.41451016e-01]\n",
      " [-1.34057234e-01  9.71616189e-02 -1.08847264e+00]\n",
      " [ 1.36962133e+00  7.25029203e-01  3.98770165e-01]\n",
      " [-5.03902177e-01 -2.24896746e+00  9.14020249e-01]\n",
      " [-1.14427801e+00 -2.73341260e+00  2.39504072e-01]\n",
      " [ 2.96592659e-01 -1.30255131e+00  5.14162871e-01]\n",
      " [ 2.62455417e+00  2.12453816e+00 -1.45498451e+00]\n",
      " [-1.33097047e+00 -1.89331760e+00 -8.81922211e-01]\n",
      " [ 2.79652797e+00  1.89264660e+00 -1.40492421e+00]\n",
      " [-3.82849578e-01 -1.64899967e+00 -3.18315759e-01]\n",
      " [-2.08329823e+00 -4.60130729e-01  1.18904815e+00]\n",
      " [ 3.91024312e+00  2.44364391e+00 -1.20674516e+00]\n",
      " [-1.10257421e+00 -2.18331309e+00 -8.39891781e-01]\n",
      " [-1.16956564e-01  1.05435541e+00  7.14665682e-02]\n",
      " [ 3.91011222e-01  5.29818651e-01 -7.16033916e-02]\n",
      " [-5.13010821e-01 -1.52918651e-01  7.30757635e-02]\n",
      " [-4.19563510e-01 -5.13268599e-02 -2.04048377e-01]\n",
      " [-5.18998484e-01 -4.10727653e-01  5.45405206e-01]\n",
      " [ 7.08502820e-01 -3.50471888e-02  1.60387023e-01]\n",
      " [ 3.80243972e+00  1.66546858e+00  4.36863429e-01]\n",
      " [ 2.87472105e-01 -1.77998008e+00  1.29124934e+00]\n",
      " [-1.14063307e+00 -4.57638778e-01 -8.46419439e-01]\n",
      " [ 9.90651053e-01  4.01902613e-01  1.68468620e+00]\n",
      " [ 4.36860289e-02 -2.09274610e+00 -5.49077685e-01]\n",
      " [-1.48023429e+00  2.23879034e-01  1.58200860e+00]\n",
      " [-1.14159182e+00  6.47790725e-01  8.35784894e-02]\n",
      " [ 3.43684558e-01 -1.01722551e+00 -2.13239798e-01]\n",
      " [ 2.44166175e-01 -3.41303196e-01  1.82469323e+00]\n",
      " [-9.98738031e-01 -2.21500795e+00 -1.01427018e+00]\n",
      " [-1.16010312e+00 -7.92258661e-02 -1.49078576e+00]\n",
      " [ 1.46611048e+00 -5.01191835e-01 -7.07248907e-02]\n",
      " [-1.21219863e+00  1.72735645e+00 -1.73042074e+00]\n",
      " [ 3.19315782e-01 -8.87880164e-01 -3.87177104e-01]\n",
      " [-3.44950135e+00  1.12421998e+00  1.25901736e+00]\n",
      " [ 2.14639247e+00  2.75124495e-01  1.05067082e-01]\n",
      " [-1.21699861e+00  1.74077719e+00 -1.84472931e+00]\n",
      " [-6.99653322e-01  8.08247411e-01 -1.15958131e+00]\n",
      " [ 1.36619013e+00  9.18895721e-01  5.45538061e-02]\n",
      " [-3.71259523e-01  2.61462560e-01 -8.75413132e-01]\n",
      " [-3.52736132e+00  2.24560405e+00 -6.07049722e-01]\n",
      " [-1.53029944e+00  1.15491358e+00  1.28846101e-03]\n",
      " [ 2.52448925e-01  1.67042339e+00  1.09106179e+00]\n",
      " [-1.14558454e+00  6.18969416e-01  1.44452881e-01]\n",
      " [ 1.43755492e+00 -3.12047783e-01 -2.35637530e-01]\n",
      " [-6.89921051e-01 -4.36426555e-01 -1.85593884e+00]\n",
      " [ 3.26358073e-01 -1.27829115e+00  2.97575137e-01]\n",
      " [-1.37355473e+00  6.12836620e-01  5.30122714e-01]\n",
      " [-1.35181075e-01 -2.92056122e-01 -4.96749940e-01]\n",
      " [ 2.48456206e-01  1.64160209e+00  1.15193618e+00]\n",
      " [ 3.72724341e+00  1.78477010e+00  2.07914173e+00]\n",
      " [ 2.80052069e+00  1.92146791e+00 -1.46579860e+00]\n",
      " [-2.86081149e+00  2.67201841e+00  1.16323651e-01]\n",
      " [ 2.88378358e+00  1.21573762e+00 -2.56769318e-01]\n",
      " [ 2.74990847e-01 -9.12444373e-01 -2.55278771e-01]\n",
      " [ 1.42483782e+00  1.12360765e+00 -4.43079901e-01]\n",
      " [ 2.93635377e-01 -2.91140687e-01  1.62713513e+00]\n",
      " [-8.78576842e-01 -5.15255682e-01 -1.30651517e+00]\n",
      " [ 1.41560175e+00  9.40476732e-01 -1.99502109e-01]\n",
      " [-2.13304901e+00  1.70779201e+00  1.80552107e-01]\n",
      " [-1.61947396e+00 -2.84127940e-01 -2.37918525e-01]\n",
      " [-8.50148166e-02  1.28492588e+00 -4.15528569e-01]\n",
      " [ 3.71808884e+00  1.97806225e+00  5.98050629e-02]\n",
      " [-5.01903769e-01  9.37753221e-02 -2.89815059e-01]\n",
      " [ 2.41642970e+00  3.47032093e-01 -1.51742268e-01]\n",
      " [ 4.05255885e-01 -7.15174442e-01 -8.85563087e-01]\n",
      " [ 1.32740818e+00  1.41205816e-01  1.43196808e+00]\n",
      " [-1.54049069e+00  4.52528276e-01 -1.63567401e+00]\n",
      " [-2.99369505e+00  1.33169749e+00  2.71690129e+00]\n",
      " [-1.66286873e+00 -4.64053295e-01 -2.75091188e+00]\n",
      " [ 2.54750719e-01 -1.35394097e+00  5.97204593e-01]\n",
      " [ 3.98627473e-01 -8.41613692e-01 -6.50113814e-01]\n",
      " [-5.44530148e-01 -4.81960136e-01  7.37754189e-01]\n",
      " [ 1.67380999e+00 -6.84514307e-01  2.18323343e+00]\n",
      " [ 7.13895782e-01  9.20100419e-02  2.67879671e-02]\n",
      " [ 1.72371756e+00 -1.09670912e-01  1.04128567e+00]\n",
      " [ 1.58025485e+00 -5.55576593e-03  1.15339263e+00]\n",
      " [ 1.47850074e+00  7.32409874e-02 -1.02263880e+00]\n",
      " [-1.35865651e+00 -1.86651007e+00 -8.70893214e-01]\n",
      " [-1.17520289e+00 -3.54741148e-01 -1.06702055e+00]\n",
      " [-5.09889205e-01  3.61327053e-02 -1.68066275e-01]\n",
      " [-4.39320551e-01 -2.21343784e+00  7.10441978e-01]\n",
      " [ 2.60741211e-01 -1.52528605e+00  8.86910859e-01]\n",
      " [ 2.75831454e-01 -7.77776990e-02  1.27852437e+00]\n",
      " [-1.30403116e+00  1.06446636e+00 -3.30309724e-01]\n",
      " [-1.08473501e+00 -5.41404605e-02 -1.69866093e+00]\n",
      " [-6.76820853e-01  5.91957521e-01 -9.33104968e-01]\n",
      " [ 1.77526397e+00  2.32666300e-01  3.09345412e-01]\n",
      " [ 9.43102481e-01 -6.56558758e-01  7.74011628e-01]\n",
      " [ 2.87846395e+00  8.94015120e-01  3.38188357e-01]\n",
      " [-1.23753420e+00 -3.63812425e-01 -8.07817949e-01]\n",
      " [-8.01717168e-01 -1.24342319e+00 -1.51455858e-01]\n",
      " [-2.31059707e+00  1.59110009e+00  7.74714845e-01]\n",
      " [-3.43809703e-01 -1.88098269e+00 -9.82957898e-02]\n",
      " [-5.96499640e-01 -7.23007608e-01 -1.53745102e+00]\n",
      " [-9.50022595e-01 -8.38324983e-01 -5.66647813e-01]\n",
      " [-7.70326373e-01 -3.63498667e-01  1.00122720e+00]\n",
      " [-7.18251640e-01  7.32243667e-01 -1.09012554e+00]\n",
      " [-1.26242246e+00 -2.19602375e+00 -3.63990819e-01]\n",
      " [ 1.01573121e+00  9.64048204e-01  7.27717152e-01]\n",
      " [-4.85139923e-02 -9.98974589e-01  7.15249890e-01]\n",
      " [ 1.77387967e+00  2.34006677e-01  3.09896862e-01]\n",
      " [ 1.34450289e+00  6.45708791e-01  5.96747813e-01]\n",
      " [-8.14947986e-01  2.00762313e-01  1.90592220e-01]\n",
      " [-1.19495223e+00 -2.03059965e+00 -9.25986461e-01]\n",
      " [ 1.09957829e+00  1.56929568e+00 -5.50645082e-01]\n",
      " [-1.15050405e+00 -1.52271295e+00  9.98075348e-01]\n",
      " [ 2.83816891e-01 -2.01350821e-02  1.15677559e+00]\n",
      " [-1.49744707e+00 -2.09515597e+00 -1.49035718e-01]\n",
      " [-1.40836536e+00  7.42662586e-01  4.86269546e-01]\n",
      " [ 2.60371947e+00  2.14066167e+00 -1.33088020e+00]\n",
      " [ 6.88539228e-01 -1.79153731e-01  4.64758983e-01]\n",
      " [ 9.10737554e-01 -1.08284348e+00  1.61687847e+00]\n",
      " [ 4.11860350e-01  8.69191758e-01 -7.32031242e-01]\n",
      " [-1.24843993e+00 -3.34956919e+00  1.58956941e+00]\n",
      " [-3.64552934e-01 -1.36847965e+00 -9.74963708e-01]\n",
      " [-8.78576842e-01 -5.15255682e-01 -1.30651517e+00]\n",
      " [ 3.29927946e-01 -2.80455679e-02  9.63318337e-01]\n",
      " [-1.22875129e+00 -2.58413708e+00  1.58913736e-01]\n",
      " [-1.97934775e-01  8.87115038e-02  1.88067711e+00]\n",
      " [ 1.75900283e+00 -1.78631879e-01  1.08218667e+00]\n",
      " [ 1.28343452e-02 -4.97111790e-01 -3.27134248e-01]\n",
      " [-6.40216465e-01 -1.13635855e+00 -8.10193293e-01]\n",
      " [-7.05049431e+00  4.97456037e+00  1.92558026e+00]\n",
      " [ 4.13775033e-01  5.77201909e-01 -3.15043897e-01]\n",
      " [-2.80887011e+00  1.64797333e+00 -1.07111912e+00]\n",
      " [-7.27400204e-01 -9.84458579e-01 -8.89703890e-01]\n",
      " [-8.28049983e-01 -2.74919354e-01  9.64938093e-01]\n",
      " [ 3.09916639e+00  5.59541201e-01  9.16559402e-01]\n",
      " [-2.34577410e+00  2.36944770e+00 -4.44549536e-01]\n",
      " [ 1.77925669e+00  2.61487609e-01  2.48471020e-01]\n",
      " [ 1.75130766e+00  5.97384498e-02  6.74591765e-01]\n",
      " [ 9.46148042e-02 -1.89629080e-01 -1.06099862e+00]\n",
      " [ 3.91964352e-01 -1.02570619e+00 -3.01876283e-01]\n",
      " [-2.69033039e-02 -9.50474797e-01  4.72268742e-01]\n",
      " [ 3.19099891e+00  1.22243129e+00 -4.83551616e-01]\n",
      " [-2.42562847e+00  1.79302153e+00  7.72938307e-01]\n",
      " [ 2.20725495e+00  5.04799430e-01 -4.42612846e-01]\n",
      " [ 1.44003251e+00  8.51446519e-01 -9.06666262e-02]\n",
      " [-2.86476817e+00  1.24447502e+00 -2.18877626e-01]\n",
      " [-7.04650160e+00  5.00338168e+00  1.86470586e+00]\n",
      " [ 1.02539531e+00 -3.03617197e-01 -3.52538944e-02]\n",
      " [-3.32707081e-01 -3.29609163e-01 -3.07658895e-03]\n",
      " [-3.53933947e+00  2.15914013e+00 -4.24426546e-01]\n",
      " [-1.05894983e+00 -2.00571805e+00  1.66868347e+00]\n",
      " [ 7.90784880e-01  4.06170987e-01 -8.25259132e-01]\n",
      " [ 2.45898502e+00  1.15569777e+00 -1.71007481e+00]\n",
      " [-1.15261123e+00 -5.44102704e-01 -6.63796262e-01]\n",
      " [-1.62833050e+00 -1.81540509e-01 -2.96437387e-01]\n",
      " [ 2.92078797e-01  4.55250526e-03  1.09420052e+00]\n",
      " [ 2.10544205e+00 -4.44720973e-01  1.49070201e+00]\n",
      " [ 3.12241997e+00  7.38729303e-01  5.41473076e-01]\n",
      " [-2.92066623e+00  8.40976698e-01  6.33363864e-01]\n",
      " [-6.80358686e-01 -4.78372830e-01 -1.80046424e+00]\n",
      " [ 1.07063142e+00 -1.91669064e-01 -3.43900126e-01]\n",
      " [-1.07663734e+00 -1.20409578e+00  2.52916948e-01]\n",
      " [ 1.02030402e+00 -6.35190696e-01  6.85537344e-01]\n",
      " [-1.51965600e+00  4.36404771e-01 -1.75977833e+00]\n",
      " [-6.51479275e-01 -2.65488964e+00 -9.64632536e-01]\n",
      " [ 1.40721966e+00  7.81106100e-01  2.16060865e-01]\n",
      " [ 6.03384705e-02 -1.97254099e+00 -8.02966677e-01]\n",
      " [-1.32537401e+00 -9.97881210e-01  5.31418677e-01]\n",
      " [ 2.36628139e+00  6.53037725e-01 -4.90231435e-01]\n",
      " [-1.17842044e+00 -1.46704512e+00  1.06571687e+00]\n",
      " [ 9.67165744e-01  1.01107263e+00  7.47063667e-01]\n",
      " [ 3.30390197e-01 -8.98603175e-01 -3.91588703e-01]\n",
      " [-5.00799780e-01  2.24179610e-04 -1.22523193e-01]\n",
      " [ 9.65587201e-01  4.96471917e-01 -1.24903289e+00]\n",
      " [ 1.71173940e+00 -1.96134838e-01  1.22390885e+00]\n",
      " [ 1.02429674e+00 -6.06369388e-01  6.24662952e-01]\n",
      " [-1.31855182e+00 -1.74748535e+00 -1.17316866e+00]\n",
      " [ 6.59719095e-01 -2.20672842e-01  7.10612082e-01]\n",
      " [ 2.41996574e-03 -1.82397812e+00 -9.47625938e-01]\n",
      " [-4.99026514e-01 -6.60819309e-01  1.07256742e+00]\n",
      " [-3.14582625e-01 -8.97917096e-01 -1.82760692e+00]\n",
      " [ 3.65482908e-01 -6.11288837e-01 -9.88286851e-01]]\n",
      "KMeans(n_clusters=2, random_state=42)\n",
      "204 [0 0 0 0 0 0 0 1 1 0 0 0 0 0 0 0 1 0 0 0 0 0 1 0 0 0 0 0 0 0 0 0 0 0 0 0 0\n",
      " 0 0 1 0 0 0 0 0 0 0 0 0 0 0 0 0 1 1 0 0 0 0 0 1 0 1 0 1 0 0 0 1 1 0 1 0 0\n",
      " 0 1 0 0 0 0 1 0 0 0 0 0 0 1 1 0 0 0 0 0 0 1 1 0 0 0 0 0 0 0 0 0 0 0 0 0 0\n",
      " 0 1 0 0 0 0 0 0 0 1 0 0 0 0 0 0 0 0 0 0 0 0 0 0 0 0 1 0 0 0 0 0 0 0 0 0 0\n",
      " 0 0 0 1 0 1 0 0 0 1 0 0 0 0 0 0 1 0 0 1 1 0 0 1 0 0 0 0 1 0 0 0 1 0 0 0 0\n",
      " 1 0 0 0 0 0 0 0 0 0 0 0 0 0 0 0 0 0 0]\n",
      "             Survived  Pclass  Sex       Age      Fare  Cabin  cluster\n",
      "PassengerId                                                           \n",
      "2                   1       1    1  0.571831  0.786845      2        0\n",
      "4                   1       1    1  0.365167  0.420730      2        0\n",
      "7                   0       1    0  1.674039  0.395814      4        0\n",
      "11                  1       3    1 -1.770360 -0.312172      6        0\n",
      "12                  1       1    1  1.949591 -0.113846      2        0\n",
      "22                  1       2    0  0.296279 -0.386671      3        0\n",
      "24                  1       1    0 -0.117049  0.066360      0        0\n",
      "28                  0       1    0 -0.737041  4.647001      2        1\n",
      "32                  1       1    1  0.422296  2.301729      1        1\n",
      "53                  1       1    1  1.329599  0.896497      3        0\n",
      "55                  0       1    0  2.431806  0.599510      1        0\n",
      "56                  1       1    0  0.422296  0.066360      2        0\n",
      "62                  1       1    1  0.571831  0.962353      1        0\n",
      "63                  0       1    0  1.054047  1.032321      2        0\n",
      "67                  1       2    1 -0.048161 -0.437007      5        0\n",
      "76                  0       3    0 -0.323713 -0.494391      5        0\n",
      "89                  1       1    1 -0.461489  4.647001      2        1\n",
      "93                  0       1    0  1.122935  0.583318      4        0\n",
      "97                  0       1    0  2.845134  0.049330      0        0\n",
      "98                  1       1    0 -0.461489  0.627278      3        0\n",
      "             Survived  Pclass  Sex       Age      Fare  Cabin  cluster  \\\n",
      "PassengerId                                                              \n",
      "2                   1       1    1  0.571831  0.786845      2        0   \n",
      "4                   1       1    1  0.365167  0.420730      2        0   \n",
      "7                   0       1    0  1.674039  0.395814      4        0   \n",
      "11                  1       3    1 -1.770360 -0.312172      6        0   \n",
      "12                  1       1    1  1.949591 -0.113846      2        0   \n",
      "22                  1       2    0  0.296279 -0.386671      3        0   \n",
      "24                  1       1    0 -0.117049  0.066360      0        0   \n",
      "28                  0       1    0 -0.737041  4.647001      2        1   \n",
      "32                  1       1    1  0.422296  2.301729      1        1   \n",
      "53                  1       1    1  1.329599  0.896497      3        0   \n",
      "55                  0       1    0  2.431806  0.599510      1        0   \n",
      "56                  1       1    0  0.422296  0.066360      2        0   \n",
      "62                  1       1    1  0.571831  0.962353      1        0   \n",
      "63                  0       1    0  1.054047  1.032321      2        0   \n",
      "67                  1       2    1 -0.048161 -0.437007      5        0   \n",
      "76                  0       3    0 -0.323713 -0.494391      5        0   \n",
      "89                  1       1    1 -0.461489  4.647001      2        1   \n",
      "93                  0       1    0  1.122935  0.583318      4        0   \n",
      "97                  0       1    0  2.845134  0.049330      0        0   \n",
      "98                  1       1    0 -0.461489  0.627278      3        0   \n",
      "\n",
      "            CabinName  \n",
      "PassengerId            \n",
      "2                   C  \n",
      "4                   C  \n",
      "7                   E  \n",
      "11                  G  \n",
      "12                  C  \n",
      "22                  D  \n",
      "24                  A  \n",
      "28                  C  \n",
      "32                  B  \n",
      "53                  D  \n",
      "55                  B  \n",
      "56                  C  \n",
      "62                  B  \n",
      "63                  C  \n",
      "67                  F  \n",
      "76                  F  \n",
      "89                  C  \n",
      "93                  E  \n",
      "97                  A  \n",
      "98                  D  \n",
      "CabinName    A         B         C    D    E    F    G    T\n",
      "cluster                                                    \n",
      "0          1.0  0.680851  0.711864  1.0  1.0  1.0  1.0  1.0\n",
      "1          0.0  0.319149  0.288136  0.0  0.0  0.0  0.0  0.0\n"
     ]
    },
    {
     "name": "stderr",
     "output_type": "stream",
     "text": [
      "c:\\Users\\hauti\\anaconda3\\lib\\site-packages\\sklearn\\cluster\\_kmeans.py:1429: UserWarning:\n",
      "\n",
      "KMeans is known to have a memory leak on Windows with MKL, when there are less chunks than available threads. You can avoid it by setting the environment variable OMP_NUM_THREADS=1.\n",
      "\n"
     ]
    }
   ],
   "source": [
    "# \n",
    "KM = KMeans(init = 'k-means++', n_clusters = 2, random_state = 42)\n",
    "train_results = KM.fit(X_pca)\n",
    "\n",
    "print(X_pca)\n",
    "\n",
    "\n",
    "print(train_results)\n",
    "print(len(KM.labels_), KM.labels_)\n",
    "data['cluster'] = KM.labels_\n",
    "print(data.head(20))\n",
    "\n",
    "data_labels = label_encoder.inverse_transform(data['Cabin'])\n",
    "\n",
    "data['CabinName'] = data_labels\n",
    "print(data.head(20))\n",
    "\n",
    "# Creating a crosstab\n",
    "\n",
    "corrtable = pd.crosstab(data['cluster'], data['CabinName'], normalize=True)\n",
    "# Now, normalize the crosstab per CabinName group\n",
    "corrtable_normalized = corrtable.div(corrtable.sum(axis=0), axis=1)\n",
    "print(corrtable_normalized)\n"
   ]
  },
  {
   "cell_type": "code",
   "execution_count": 75,
   "metadata": {},
   "outputs": [
    {
     "name": "stdout",
     "output_type": "stream",
     "text": [
      "0      0\n",
      "1      0\n",
      "2      0\n",
      "3      0\n",
      "4      0\n",
      "      ..\n",
      "199    0\n",
      "200    0\n",
      "201    0\n",
      "202    0\n",
      "203    0\n",
      "Name: cluster, Length: 204, dtype: int32\n",
      "   PCA Component 1  PCA Component 2  PCA Component 3  cluster  Cabin\n",
      "0        -0.262772        -0.301205        -0.088656        0      2\n",
      "1         0.000918        -0.458466        -0.371551        0      2\n",
      "2         1.367328        -0.028197         1.653201        0      4\n",
      "3         3.797943         2.554488        -1.157683        0      6\n",
      "4         0.276618        -1.477226         0.882150        0      2\n"
     ]
    }
   ],
   "source": [
    "\n",
    "\n",
    "\n",
    "data_labels = label_encoder.inverse_transform(data['Cabin'])\n",
    "clusters = data['cluster'].reset_index(drop = True)\n",
    "cabins = data['Cabin'].reset_index(drop = True)\n",
    "print(clusters)\n",
    "\n",
    "# Step 5: Create a DataFrame for the PCA results and cluster centers\n",
    "pca_df = pd.DataFrame(X_pca, columns=['PCA Component 1', 'PCA Component 2', 'PCA Component 3'])\n",
    "pca_df['cluster'] = clusters\n",
    "pca_df['Cabin'] = cabins\n",
    "\n",
    "print(pca_df.head())\n",
    "\n",
    "\n"
   ]
  },
  {
   "cell_type": "code",
   "execution_count": 76,
   "metadata": {},
   "outputs": [
    {
     "data": {
      "application/vnd.plotly.v1+json": {
       "config": {
        "plotlyServerURL": "https://plot.ly"
       },
       "data": [
        {
         "marker": {
          "color": [
           2,
           2,
           4,
           6,
           2,
           3,
           0,
           2,
           1,
           3,
           1,
           2,
           1,
           2,
           5,
           5,
           2,
           4,
           0,
           3,
           3,
           2,
           1,
           4,
           3,
           5,
           3,
           2,
           1,
           5,
           2,
           4,
           1,
           0,
           2,
           5,
           0,
           5,
           1,
           1,
           6,
           0,
           3,
           3,
           2,
           2,
           2,
           3,
           6,
           2,
           1,
           4,
           1,
           2,
           2,
           2,
           3,
           0,
           1,
           3,
           2,
           2,
           1,
           4,
           2,
           2,
           4,
           2,
           1,
           2,
           4,
           2,
           3,
           1,
           2,
           2,
           2,
           4,
           7,
           5,
           2,
           5,
           2,
           4,
           3,
           1,
           4,
           2,
           1,
           3,
           6,
           2,
           4,
           2,
           4,
           1,
           2,
           0,
           2,
           2,
           2,
           4,
           3,
           4,
           4,
           3,
           0,
           1,
           2,
           1,
           2,
           3,
           2,
           1,
           2,
           4,
           3,
           5,
           1,
           1,
           2,
           1,
           1,
           1,
           2,
           2,
           0,
           4,
           2,
           4,
           4,
           2,
           0,
           4,
           1,
           3,
           0,
           2,
           5,
           3,
           3,
           3,
           0,
           1,
           1,
           3,
           0,
           3,
           4,
           2,
           1,
           1,
           3,
           1,
           1,
           2,
           5,
           2,
           4,
           4,
           2,
           2,
           2,
           5,
           2,
           4,
           4,
           1,
           1,
           3,
           2,
           1,
           1,
           3,
           4,
           1,
           1,
           3,
           4,
           5,
           1,
           1,
           3,
           1,
           3,
           1,
           0,
           4,
           1,
           1,
           4,
           1,
           4,
           2,
           2,
           3,
           4,
           3,
           0,
           3,
           1,
           2,
           1,
           2
          ],
          "colorscale": [
           [
            0,
            "#440154"
           ],
           [
            0.1111111111111111,
            "#482878"
           ],
           [
            0.2222222222222222,
            "#3e4989"
           ],
           [
            0.3333333333333333,
            "#31688e"
           ],
           [
            0.4444444444444444,
            "#26828e"
           ],
           [
            0.5555555555555556,
            "#1f9e89"
           ],
           [
            0.6666666666666666,
            "#35b779"
           ],
           [
            0.7777777777777778,
            "#6ece58"
           ],
           [
            0.8888888888888888,
            "#b5de2b"
           ],
           [
            1,
            "#fde725"
           ]
          ],
          "opacity": 0.8,
          "size": 5
         },
         "mode": "markers",
         "name": "Clusters",
         "text": [
          2,
          2,
          4,
          6,
          2,
          3,
          0,
          2,
          1,
          3,
          1,
          2,
          1,
          2,
          5,
          5,
          2,
          4,
          0,
          3,
          3,
          2,
          1,
          4,
          3,
          5,
          3,
          2,
          1,
          5,
          2,
          4,
          1,
          0,
          2,
          5,
          0,
          5,
          1,
          1,
          6,
          0,
          3,
          3,
          2,
          2,
          2,
          3,
          6,
          2,
          1,
          4,
          1,
          2,
          2,
          2,
          3,
          0,
          1,
          3,
          2,
          2,
          1,
          4,
          2,
          2,
          4,
          2,
          1,
          2,
          4,
          2,
          3,
          1,
          2,
          2,
          2,
          4,
          7,
          5,
          2,
          5,
          2,
          4,
          3,
          1,
          4,
          2,
          1,
          3,
          6,
          2,
          4,
          2,
          4,
          1,
          2,
          0,
          2,
          2,
          2,
          4,
          3,
          4,
          4,
          3,
          0,
          1,
          2,
          1,
          2,
          3,
          2,
          1,
          2,
          4,
          3,
          5,
          1,
          1,
          2,
          1,
          1,
          1,
          2,
          2,
          0,
          4,
          2,
          4,
          4,
          2,
          0,
          4,
          1,
          3,
          0,
          2,
          5,
          3,
          3,
          3,
          0,
          1,
          1,
          3,
          0,
          3,
          4,
          2,
          1,
          1,
          3,
          1,
          1,
          2,
          5,
          2,
          4,
          4,
          2,
          2,
          2,
          5,
          2,
          4,
          4,
          1,
          1,
          3,
          2,
          1,
          1,
          3,
          4,
          1,
          1,
          3,
          4,
          5,
          1,
          1,
          3,
          1,
          3,
          1,
          0,
          4,
          1,
          1,
          4,
          1,
          4,
          2,
          2,
          3,
          4,
          3,
          0,
          3,
          1,
          2,
          1,
          2
         ],
         "type": "scatter3d",
         "x": [
          -0.2627717372725421,
          0.0009181755301990169,
          1.3673284916865418,
          3.7979432068737826,
          0.27661779111676776,
          1.4543968959961515,
          -1.1169551742388797,
          -2.8140227151326966,
          -1.9947768553575456,
          0.31707868747222845,
          -0.9141111417553682,
          0.2501006897838638,
          -1.0825951981270245,
          -0.4326655069261106,
          2.898427538093119,
          3.167042602104997,
          -2.8568187765182254,
          1.2703571299396406,
          -1.2589649951063182,
          0.6148395227164403,
          0.44797143446760934,
          -0.004941937993490297,
          -3.318865478033264,
          2.1506874554835984,
          0.3162117256002652,
          2.89337181107225,
          1.135183765607053,
          0.01975792621257444,
          -0.9887975374731917,
          2.6807405512635483,
          -0.13405723373940415,
          1.3696213336443823,
          -0.5039021768035186,
          -1.1442780141008728,
          0.29659265881153685,
          2.624554168860747,
          -1.3309704740957655,
          2.7965279718592266,
          -0.3828495784797512,
          -2.083298229099744,
          3.910243118877403,
          -1.1025742126030413,
          -0.11695656422756273,
          0.39101122170470526,
          -0.513010820680471,
          -0.41956351000428127,
          -0.5189984838866957,
          0.7085028200858914,
          3.802439720713212,
          0.28747210489809194,
          -1.1406330704725853,
          0.9906510533023458,
          0.04368602886015549,
          -1.4802342884024013,
          -1.1415918194236425,
          0.3436845580317298,
          0.24416617518329264,
          -0.9987380312043243,
          -1.1601031176204908,
          1.4661104838987558,
          -1.2121986348831282,
          0.3193157820529142,
          -3.4495013453303556,
          2.146392470732371,
          -1.2169986063669915,
          -0.6996533220829417,
          1.3661901253158097,
          -0.3712595231041783,
          -3.527361319630122,
          -1.530299441289151,
          0.25244892493374493,
          -1.145584537874168,
          1.4375549190086025,
          -0.6899210514478011,
          0.3263580733468343,
          -1.373554731808463,
          -0.1351810753096565,
          0.24845620648321942,
          3.727243412886208,
          2.8005206903097517,
          -2.8608114949687513,
          2.8837835842112223,
          0.2749908465076978,
          1.4248378241211048,
          0.2936353774133229,
          -0.8785768423638987,
          1.415601747604978,
          -2.1330490123656825,
          -1.6194739592918777,
          -0.08501481662335797,
          3.7180888378632706,
          -0.5019037685143408,
          2.4164296961747085,
          0.40525588471903284,
          1.3274081784813863,
          -1.5404906934668128,
          -2.993695045406348,
          -1.6628687338135284,
          0.25475071901386914,
          0.39862747317033853,
          -0.5445301477053295,
          1.6738099933428274,
          0.7138957821450553,
          1.7237175595048337,
          1.580254854929258,
          1.4785007411555537,
          -1.3586565110033857,
          -1.1752028882371466,
          -0.5098892054153921,
          -0.4393205513274636,
          0.26074121115922133,
          0.2758314543468676,
          -1.3040311592452165,
          -1.084735012165227,
          -0.6768208529500407,
          1.775263973255266,
          0.9431024812894075,
          2.8784639458404917,
          -1.2375341996492555,
          -0.8017171680625175,
          -2.3105970658801818,
          -0.34380970334112937,
          -0.5964996400774084,
          -0.9500225951416827,
          -0.7703263726936793,
          -0.7182516404958854,
          -1.2624224589965103,
          1.0157312055757521,
          -0.04851399226932607,
          1.773879671409885,
          1.344502893853741,
          -0.814947986493946,
          -1.194952234695027,
          1.0995782930367892,
          -1.1505040491890415,
          0.28381689124791887,
          -1.4974470727503033,
          -1.408365356292941,
          2.603719473422672,
          0.6885392278332634,
          0.9107375543535268,
          0.4118603501053668,
          -1.2484399321702546,
          -0.3645529338737754,
          -0.8785768423638987,
          0.3299279460092519,
          -1.2287512908535958,
          -0.19793477480832689,
          1.7590028307140804,
          0.012834345209500109,
          -0.6402164646832372,
          -7.050494314860416,
          0.413775033470289,
          -2.808870109942214,
          -0.7274002044492163,
          -0.8280499834157752,
          3.099166388446062,
          -2.3457741046166847,
          1.7792566917057915,
          1.7513076625521125,
          0.0946148042421906,
          0.3919643524423928,
          -0.026903303940944756,
          3.19099891280815,
          -2.4256284736271967,
          2.2072549530960144,
          1.440032507017214,
          -2.8647681682495723,
          -7.04650159640989,
          1.0253953131779756,
          -0.33270708052250875,
          -3.539339474981699,
          -1.0589498348761262,
          0.7907848802201913,
          2.4589850192302642,
          -1.1526112258241619,
          -1.6283304993783756,
          0.29207879658959945,
          2.1054420470771755,
          3.1224199651344695,
          -2.9206662265569303,
          -0.6803586862283559,
          1.0706314219979478,
          -1.0766373433847545,
          1.0203040249257795,
          -1.5196559980287383,
          -0.6514792745874751,
          1.4072196562275625,
          0.060338470492893315,
          -1.3253740055608185,
          2.3662813916827288,
          -1.1784204409396384,
          0.9671657439342503,
          0.33039019681596216,
          -0.500799780104359,
          0.9655872008055391,
          1.7117394041532568,
          1.024296743376305,
          -1.3185518182231724,
          0.6597190954941379,
          0.0024199657447843137,
          -0.4990265135209969,
          -0.31458262487653554,
          0.3654829079544393
         ],
         "y": [
          -0.3012054642624702,
          -0.45846621513269925,
          -0.028197118009753552,
          2.5544884233966543,
          -1.4772262637948366,
          -0.35699259696179353,
          -1.777140445681141,
          2.6286563649958503,
          0.17885793141697715,
          0.04572055481212489,
          -1.982524190830722,
          -0.8208613396055653,
          -0.7753337169057923,
          -0.5270085262846684,
          1.0381216625686895,
          1.0495034439976862,
          2.7008397134427615,
          0.32719590889645733,
          -3.1126747631141516,
          0.5132667441537904,
          0.6727319303962456,
          -1.0065346396077945,
          1.6861054179763846,
          0.3797916459315376,
          -0.27837124756535125,
          1.1220041022523373,
          0.23419482974666117,
          -0.7035774141180826,
          -0.5700269929465895,
          0.842251621359408,
          0.09716161890867658,
          0.7250292029880252,
          -2.248967455084933,
          -2.733412599276452,
          -1.30255130606063,
          2.124538163518626,
          -1.8933175994893208,
          1.892646604521536,
          -1.648999667174805,
          -0.46013072913400155,
          2.443643906433324,
          -2.1833130882718694,
          1.0543554133551987,
          0.5298186509128446,
          -0.1529186511391385,
          -0.051326859914655465,
          -0.4107276526666024,
          -0.03504718883799507,
          1.6654685790101995,
          -1.7799800796263772,
          -0.45763877844569656,
          0.40190261268402194,
          -2.092746098358452,
          0.22387903395364095,
          0.647790724653881,
          -1.017225509989761,
          -0.3413031958188453,
          -2.2150079542295034,
          -0.07922586610740412,
          -0.5011918353945477,
          1.7273564545136977,
          -0.88788016350977,
          1.1242199811155644,
          0.27512449458646326,
          1.7407771874493805,
          0.8082474112536424,
          0.9188957212984481,
          0.261462560433118,
          2.24560405346165,
          1.1549135756904314,
          1.6704233941293185,
          0.6189694162308026,
          -0.3120477826577166,
          -0.43642655508400363,
          -1.278291149322939,
          0.612836620275989,
          -0.2920561221921003,
          1.6416020857062397,
          1.7847701038968813,
          1.9214679129446148,
          2.6720184050196827,
          1.2157376166361855,
          -0.9124443729849774,
          1.1236076456678794,
          -0.2911406867055608,
          -0.515255682137689,
          0.9404767321521064,
          1.707792011397911,
          -0.2841279399762313,
          1.284925880739828,
          1.9780622549350801,
          0.09377532212648942,
          0.3470320928289845,
          -0.7151744422527098,
          0.14120581598520676,
          0.452528276481734,
          1.3316974859573087,
          -0.46405329468759327,
          -1.3539409735222767,
          -0.8416136923508497,
          -0.4819601362836814,
          -0.6845143066786559,
          0.09201004187965767,
          -0.10967091249732608,
          -0.005555765932189871,
          0.07324098741929808,
          -1.8665100699276387,
          -0.35474114779611066,
          0.036132705280331745,
          -2.213437835982892,
          -1.5252860497805045,
          -0.07777769895272568,
          1.064466360782888,
          -0.054140460522595024,
          0.5919575206913379,
          0.2326663003246474,
          -0.6565587582470114,
          0.8940151204532958,
          -0.36381242497981026,
          -1.2434231909302071,
          1.5911000897686711,
          -1.8809826855425182,
          -0.7230076079521823,
          -0.8383249830872037,
          -0.36349866667976194,
          0.7322436667932499,
          -2.196023747391033,
          0.9640482043232708,
          -0.9989745887049029,
          0.23400667680273157,
          0.6457087907782983,
          0.20076231263575295,
          -2.0305996519433727,
          1.5692956812079237,
          -1.522712945188431,
          -0.020135082106568003,
          -2.0951559663241968,
          0.7426625855690574,
          2.140661669399624,
          -0.1791537309533886,
          -1.0828434762975427,
          0.86919175795046,
          -3.3495691899758584,
          -1.3684796541691817,
          -0.515255682137689,
          -0.028045567915030656,
          -2.5841370815273446,
          0.08871150379284787,
          -0.17863187866479846,
          -0.4971117895714552,
          -1.1363585539470142,
          4.9745603734792745,
          0.5772019089696219,
          1.6479733337287157,
          -0.9844585790538178,
          -0.2749193537342598,
          0.5595412008053482,
          2.369447699957821,
          0.26148760874772625,
          0.05973844978617526,
          -0.18962907987778155,
          -1.0257061853830833,
          -0.9504747970418816,
          1.2224312945361584,
          1.7930215314962479,
          0.5047994303063681,
          0.8514465193186536,
          1.2444750158056137,
          5.003381681902354,
          -0.3036171967917116,
          -0.3296091625883495,
          2.1591401281924143,
          -2.0057180516111055,
          0.40617098660581297,
          1.155697770984252,
          -0.5441027037149326,
          -0.18154050882599693,
          0.004552505258098805,
          -0.4447209733749844,
          0.7387293030651523,
          0.8409766978825122,
          -0.4783728299804819,
          -0.19166906406240014,
          -1.2040957782543207,
          -0.6351906960545954,
          0.4364047706007361,
          -2.654889639043852,
          0.7811060999304158,
          -1.9725409894228894,
          -0.9978812102875414,
          0.6530377252498334,
          -1.4670451190596812,
          1.011072632303895,
          -0.8986031753344428,
          0.00022417960982368257,
          0.4964719165167537,
          -0.19613483776656238,
          -0.6063693876315168,
          -1.747485346038834,
          -0.22067284191854775,
          -1.8239781154926962,
          -0.6608193091054004,
          -0.897917095909345,
          -0.6112888369126512
         ],
         "z": [
          -0.08865631203911528,
          -0.37155126877036415,
          1.6532008590798657,
          -1.1576827794531601,
          0.8821498150981741,
          -0.2988674525161047,
          -1.5455692431628898,
          -0.022446358249789577,
          -0.16057989840280373,
          0.9656738675171919,
          1.3145663224925184,
          -0.3596046116244226,
          -0.3952685419825007,
          0.5702974956413369,
          0.03381639681615689,
          -0.11830526357242666,
          0.05544925861095362,
          1.2175594893016293,
          1.174448545079519,
          -0.6322752737435358,
          -0.5701284157049067,
          0.5184774399429255,
          -0.15811488158274378,
          -0.0940174434648211,
          1.4387265242381744,
          0.45642857298848805,
          -1.1387417353874392,
          -0.08420053291418328,
          -1.0863196788292178,
          0.7414510159071026,
          -1.0884726367238673,
          0.39877016506055707,
          0.9140202486501587,
          0.23950407246884042,
          0.514162871050817,
          -1.4549845139056488,
          -0.8819222114521176,
          -1.404924210022068,
          -0.3183157586652461,
          1.1890481514860978,
          -1.2067451580901554,
          -0.8398917809289861,
          0.07146656824120123,
          -0.07160339160297569,
          0.07307576351849865,
          -0.2040483771707422,
          0.5454052061617685,
          0.16038702280561656,
          0.43686342913600185,
          1.2912493351933299,
          -0.8464194387607022,
          1.684686201600545,
          -0.5490776852364352,
          1.5820086045677055,
          0.08357848936162182,
          -0.21323979755389222,
          1.824693227282692,
          -1.0142701751851522,
          -1.4907857605947994,
          -0.07072489066189358,
          -1.7304207425572136,
          -0.3871771040688048,
          1.25901736190672,
          0.10506708167543422,
          -1.8447293142817456,
          -1.15958131124183,
          0.054553806088554424,
          -0.8754131321565298,
          -0.6070497224634055,
          0.0012884610083931936,
          1.091061786664364,
          0.14445288148110902,
          -0.23563752996799026,
          -1.8559388369350716,
          0.2975751372750983,
          0.5301227137951658,
          -0.4967499402702499,
          1.1519361787838511,
          2.079141725244363,
          -1.4657986021415552,
          0.11632365073044082,
          -0.2567693175590884,
          -0.25527877094251483,
          -0.4430799013520845,
          1.6271351346668064,
          -1.3065151654863008,
          -0.19950210932022583,
          0.18055210652897213,
          -0.23791852497555732,
          -0.41552856871469723,
          0.05980506293658627,
          -0.2898150587697981,
          -0.1517422681881857,
          -0.8855630867955846,
          1.431968078250755,
          -1.6356740132951382,
          2.716901287127139,
          -2.750911878733705,
          0.5972045931031726,
          -0.6501138144436123,
          0.7377541890865233,
          2.183233429394541,
          0.0267879671303326,
          1.0412856734369107,
          1.1533926281858429,
          -1.0226387990676817,
          -0.8708932144743646,
          -1.0670205461870155,
          -0.16806627453082346,
          0.7104419780339668,
          0.8869108593879804,
          1.278524369541276,
          -0.3303097238090056,
          -1.6986609284335243,
          -0.9331049675051366,
          0.3093454121497332,
          0.7740116276330931,
          0.3381883574135933,
          -0.8078179493385671,
          -0.15145585758942715,
          0.774714845211036,
          -0.09829578975932907,
          -1.537451019805029,
          -0.5666478126213632,
          1.001227196558488,
          -1.0901255446979814,
          -0.36399081865961047,
          0.7277171524300041,
          0.7152498902296365,
          0.30989686199862065,
          0.5967478133191884,
          0.1905922202398791,
          -0.9259864607695919,
          -0.5506450820792295,
          0.9980753475459794,
          1.1567755853023012,
          -0.14903571763582546,
          0.48626954641693443,
          -1.330880199238047,
          0.4647589834030532,
          1.6168784698748249,
          -0.7320312417357746,
          1.5895694053616294,
          -0.9749637082079481,
          -1.3065151654863008,
          0.963318337088565,
          0.15891373618275484,
          1.8806771070845645,
          1.0821866664482258,
          -0.32713424824882154,
          -0.810193292890246,
          1.9255802555665464,
          -0.3150438974206684,
          -1.0711191154478992,
          -0.8897038903722096,
          0.9649380930519584,
          0.9165594024588575,
          -0.44454953587937507,
          0.2484710200302458,
          0.6745917648666568,
          -1.0609986157510265,
          -0.3018762831735208,
          0.47226874213606695,
          -0.4835516162893506,
          0.772938306510371,
          -0.4426128463441925,
          -0.09066662619265298,
          -0.21887762577507686,
          1.8647058634470588,
          -0.03525389439186832,
          -0.003076588945102321,
          -0.4244265461049437,
          1.6686834710584113,
          -0.8252591321435802,
          -1.7100748074815773,
          -0.6637962624022402,
          -0.2964373866664176,
          1.0942005218488446,
          1.4907020071667725,
          0.5414730763306406,
          0.6333638638977452,
          -1.800464241735892,
          -0.3439001260417529,
          0.252916947799503,
          0.6855373442822688,
          -1.75977832796274,
          -0.9646325362772972,
          0.21606086483341058,
          -0.8029666769745649,
          0.5314186772901535,
          -0.4902314346632042,
          1.0657168688851943,
          0.7470636674785289,
          -0.391588702859906,
          -0.12252319341785234,
          -1.2490328894168554,
          1.2239088497953727,
          0.6246629521627816,
          -1.1731686604385885,
          0.7106120823096294,
          -0.9476259376284641,
          1.072567415667064,
          -1.8276069166965816,
          -0.9882868512479355
         ]
        },
        {
         "marker": {
          "color": "red",
          "opacity": 1,
          "size": 10,
          "symbol": "diamond"
         },
         "mode": "markers",
         "name": "Cluster Centers",
         "type": "scatter3d",
         "x": [
          0.46200959030650873,
          -2.4833015478974825
         ],
         "y": [
          -0.2697479868910682,
          1.4498954295394915
         ],
         "z": [
          -0.019615604245349756,
          0.10543387281875488
         ]
        },
        {
         "color": "rgba(0, 0, 0, 0.5)",
         "name": "Cluster 0 Surface",
         "opacity": 0.3,
         "type": "mesh3d",
         "x": [
          3.7979432068737826,
          -1.2589649951063182,
          2.624554168860747,
          3.910243118877403,
          3.802439720713212,
          0.04368602886015549,
          -0.6996533220829417,
          0.25244892493374493,
          0.24845620648321942,
          3.727243412886208,
          -0.08501481662335797,
          -1.6628687338135284,
          1.6738099933428274,
          -1.3586565110033857,
          -0.814947986493946,
          -1.4974470727503033,
          2.603719473422672,
          -1.2484399321702546,
          -0.19793477480832689,
          -0.8280499834157752,
          3.099166388446062,
          3.19099891280815,
          -1.0589498348761262,
          2.4589850192302642,
          2.1054420470771755,
          -0.6514792745874751,
          0.060338470492893315,
          -1.3253740055608185,
          -1.3185518182231724
         ],
         "y": [
          2.5544884233966543,
          -3.1126747631141516,
          2.124538163518626,
          2.443643906433324,
          1.6654685790101995,
          -2.092746098358452,
          0.8082474112536424,
          1.6704233941293185,
          1.6416020857062397,
          1.7847701038968813,
          1.284925880739828,
          -0.46405329468759327,
          -0.6845143066786559,
          -1.8665100699276387,
          0.20076231263575295,
          -2.0951559663241968,
          2.140661669399624,
          -3.3495691899758584,
          0.08871150379284787,
          -0.2749193537342598,
          0.5595412008053482,
          1.2224312945361584,
          -2.0057180516111055,
          1.155697770984252,
          -0.4447209733749844,
          -2.654889639043852,
          -1.9725409894228894,
          -0.9978812102875414,
          -1.747485346038834
         ],
         "z": [
          -1.1576827794531601,
          1.174448545079519,
          -1.4549845139056488,
          -1.2067451580901554,
          0.43686342913600185,
          -0.5490776852364352,
          -1.15958131124183,
          1.091061786664364,
          1.1519361787838511,
          2.079141725244363,
          -0.41552856871469723,
          -2.750911878733705,
          2.183233429394541,
          -0.8708932144743646,
          0.1905922202398791,
          -0.14903571763582546,
          -1.330880199238047,
          1.5895694053616294,
          1.8806771070845645,
          0.9649380930519584,
          0.9165594024588575,
          -0.4835516162893506,
          1.6686834710584113,
          -1.7100748074815773,
          1.4907020071667725,
          -0.9646325362772972,
          -0.8029666769745649,
          0.5314186772901535,
          -1.1731686604385885
         ]
        },
        {
         "color": "rgba(50, 80, 100, 0.5)",
         "name": "Cluster 1 Surface",
         "opacity": 0.3,
         "type": "mesh3d",
         "x": [
          -2.8568187765182254,
          -3.318865478033264,
          -2.083298229099744,
          -1.4802342884024013,
          -1.1415918194236425,
          -1.2121986348831282,
          -1.2169986063669915,
          -3.527361319630122,
          -1.145584537874168,
          -2.8608114949687513,
          -1.6194739592918777,
          -2.993695045406348,
          -7.050494314860416,
          -2.808870109942214,
          -2.3457741046166847,
          -2.4256284736271967,
          -7.04650159640989,
          -1.5196559980287383
         ],
         "y": [
          2.7008397134427615,
          1.6861054179763846,
          -0.46013072913400155,
          0.22387903395364095,
          0.647790724653881,
          1.7273564545136977,
          1.7407771874493805,
          2.24560405346165,
          0.6189694162308026,
          2.6720184050196827,
          -0.2841279399762313,
          1.3316974859573087,
          4.9745603734792745,
          1.6479733337287157,
          2.369447699957821,
          1.7930215314962479,
          5.003381681902354,
          0.4364047706007361
         ],
         "z": [
          0.05544925861095362,
          -0.15811488158274378,
          1.1890481514860978,
          1.5820086045677055,
          0.08357848936162182,
          -1.7304207425572136,
          -1.8447293142817456,
          -0.6070497224634055,
          0.14445288148110902,
          0.11632365073044082,
          -0.23791852497555732,
          2.716901287127139,
          1.9255802555665464,
          -1.0711191154478992,
          -0.44454953587937507,
          0.772938306510371,
          1.8647058634470588,
          -1.75977832796274
         ]
        }
       ],
       "layout": {
        "scene": {
         "xaxis": {
          "title": {
           "text": "PCA Component 1"
          }
         },
         "yaxis": {
          "title": {
           "text": "PCA Component 2"
          }
         },
         "zaxis": {
          "title": {
           "text": "PCA Component 3"
          }
         }
        },
        "showlegend": true,
        "template": {
         "data": {
          "bar": [
           {
            "error_x": {
             "color": "#2a3f5f"
            },
            "error_y": {
             "color": "#2a3f5f"
            },
            "marker": {
             "line": {
              "color": "#E5ECF6",
              "width": 0.5
             },
             "pattern": {
              "fillmode": "overlay",
              "size": 10,
              "solidity": 0.2
             }
            },
            "type": "bar"
           }
          ],
          "barpolar": [
           {
            "marker": {
             "line": {
              "color": "#E5ECF6",
              "width": 0.5
             },
             "pattern": {
              "fillmode": "overlay",
              "size": 10,
              "solidity": 0.2
             }
            },
            "type": "barpolar"
           }
          ],
          "carpet": [
           {
            "aaxis": {
             "endlinecolor": "#2a3f5f",
             "gridcolor": "white",
             "linecolor": "white",
             "minorgridcolor": "white",
             "startlinecolor": "#2a3f5f"
            },
            "baxis": {
             "endlinecolor": "#2a3f5f",
             "gridcolor": "white",
             "linecolor": "white",
             "minorgridcolor": "white",
             "startlinecolor": "#2a3f5f"
            },
            "type": "carpet"
           }
          ],
          "choropleth": [
           {
            "colorbar": {
             "outlinewidth": 0,
             "ticks": ""
            },
            "type": "choropleth"
           }
          ],
          "contour": [
           {
            "colorbar": {
             "outlinewidth": 0,
             "ticks": ""
            },
            "colorscale": [
             [
              0,
              "#0d0887"
             ],
             [
              0.1111111111111111,
              "#46039f"
             ],
             [
              0.2222222222222222,
              "#7201a8"
             ],
             [
              0.3333333333333333,
              "#9c179e"
             ],
             [
              0.4444444444444444,
              "#bd3786"
             ],
             [
              0.5555555555555556,
              "#d8576b"
             ],
             [
              0.6666666666666666,
              "#ed7953"
             ],
             [
              0.7777777777777778,
              "#fb9f3a"
             ],
             [
              0.8888888888888888,
              "#fdca26"
             ],
             [
              1,
              "#f0f921"
             ]
            ],
            "type": "contour"
           }
          ],
          "contourcarpet": [
           {
            "colorbar": {
             "outlinewidth": 0,
             "ticks": ""
            },
            "type": "contourcarpet"
           }
          ],
          "heatmap": [
           {
            "colorbar": {
             "outlinewidth": 0,
             "ticks": ""
            },
            "colorscale": [
             [
              0,
              "#0d0887"
             ],
             [
              0.1111111111111111,
              "#46039f"
             ],
             [
              0.2222222222222222,
              "#7201a8"
             ],
             [
              0.3333333333333333,
              "#9c179e"
             ],
             [
              0.4444444444444444,
              "#bd3786"
             ],
             [
              0.5555555555555556,
              "#d8576b"
             ],
             [
              0.6666666666666666,
              "#ed7953"
             ],
             [
              0.7777777777777778,
              "#fb9f3a"
             ],
             [
              0.8888888888888888,
              "#fdca26"
             ],
             [
              1,
              "#f0f921"
             ]
            ],
            "type": "heatmap"
           }
          ],
          "heatmapgl": [
           {
            "colorbar": {
             "outlinewidth": 0,
             "ticks": ""
            },
            "colorscale": [
             [
              0,
              "#0d0887"
             ],
             [
              0.1111111111111111,
              "#46039f"
             ],
             [
              0.2222222222222222,
              "#7201a8"
             ],
             [
              0.3333333333333333,
              "#9c179e"
             ],
             [
              0.4444444444444444,
              "#bd3786"
             ],
             [
              0.5555555555555556,
              "#d8576b"
             ],
             [
              0.6666666666666666,
              "#ed7953"
             ],
             [
              0.7777777777777778,
              "#fb9f3a"
             ],
             [
              0.8888888888888888,
              "#fdca26"
             ],
             [
              1,
              "#f0f921"
             ]
            ],
            "type": "heatmapgl"
           }
          ],
          "histogram": [
           {
            "marker": {
             "pattern": {
              "fillmode": "overlay",
              "size": 10,
              "solidity": 0.2
             }
            },
            "type": "histogram"
           }
          ],
          "histogram2d": [
           {
            "colorbar": {
             "outlinewidth": 0,
             "ticks": ""
            },
            "colorscale": [
             [
              0,
              "#0d0887"
             ],
             [
              0.1111111111111111,
              "#46039f"
             ],
             [
              0.2222222222222222,
              "#7201a8"
             ],
             [
              0.3333333333333333,
              "#9c179e"
             ],
             [
              0.4444444444444444,
              "#bd3786"
             ],
             [
              0.5555555555555556,
              "#d8576b"
             ],
             [
              0.6666666666666666,
              "#ed7953"
             ],
             [
              0.7777777777777778,
              "#fb9f3a"
             ],
             [
              0.8888888888888888,
              "#fdca26"
             ],
             [
              1,
              "#f0f921"
             ]
            ],
            "type": "histogram2d"
           }
          ],
          "histogram2dcontour": [
           {
            "colorbar": {
             "outlinewidth": 0,
             "ticks": ""
            },
            "colorscale": [
             [
              0,
              "#0d0887"
             ],
             [
              0.1111111111111111,
              "#46039f"
             ],
             [
              0.2222222222222222,
              "#7201a8"
             ],
             [
              0.3333333333333333,
              "#9c179e"
             ],
             [
              0.4444444444444444,
              "#bd3786"
             ],
             [
              0.5555555555555556,
              "#d8576b"
             ],
             [
              0.6666666666666666,
              "#ed7953"
             ],
             [
              0.7777777777777778,
              "#fb9f3a"
             ],
             [
              0.8888888888888888,
              "#fdca26"
             ],
             [
              1,
              "#f0f921"
             ]
            ],
            "type": "histogram2dcontour"
           }
          ],
          "mesh3d": [
           {
            "colorbar": {
             "outlinewidth": 0,
             "ticks": ""
            },
            "type": "mesh3d"
           }
          ],
          "parcoords": [
           {
            "line": {
             "colorbar": {
              "outlinewidth": 0,
              "ticks": ""
             }
            },
            "type": "parcoords"
           }
          ],
          "pie": [
           {
            "automargin": true,
            "type": "pie"
           }
          ],
          "scatter": [
           {
            "marker": {
             "colorbar": {
              "outlinewidth": 0,
              "ticks": ""
             }
            },
            "type": "scatter"
           }
          ],
          "scatter3d": [
           {
            "line": {
             "colorbar": {
              "outlinewidth": 0,
              "ticks": ""
             }
            },
            "marker": {
             "colorbar": {
              "outlinewidth": 0,
              "ticks": ""
             }
            },
            "type": "scatter3d"
           }
          ],
          "scattercarpet": [
           {
            "marker": {
             "colorbar": {
              "outlinewidth": 0,
              "ticks": ""
             }
            },
            "type": "scattercarpet"
           }
          ],
          "scattergeo": [
           {
            "marker": {
             "colorbar": {
              "outlinewidth": 0,
              "ticks": ""
             }
            },
            "type": "scattergeo"
           }
          ],
          "scattergl": [
           {
            "marker": {
             "colorbar": {
              "outlinewidth": 0,
              "ticks": ""
             }
            },
            "type": "scattergl"
           }
          ],
          "scattermapbox": [
           {
            "marker": {
             "colorbar": {
              "outlinewidth": 0,
              "ticks": ""
             }
            },
            "type": "scattermapbox"
           }
          ],
          "scatterpolar": [
           {
            "marker": {
             "colorbar": {
              "outlinewidth": 0,
              "ticks": ""
             }
            },
            "type": "scatterpolar"
           }
          ],
          "scatterpolargl": [
           {
            "marker": {
             "colorbar": {
              "outlinewidth": 0,
              "ticks": ""
             }
            },
            "type": "scatterpolargl"
           }
          ],
          "scatterternary": [
           {
            "marker": {
             "colorbar": {
              "outlinewidth": 0,
              "ticks": ""
             }
            },
            "type": "scatterternary"
           }
          ],
          "surface": [
           {
            "colorbar": {
             "outlinewidth": 0,
             "ticks": ""
            },
            "colorscale": [
             [
              0,
              "#0d0887"
             ],
             [
              0.1111111111111111,
              "#46039f"
             ],
             [
              0.2222222222222222,
              "#7201a8"
             ],
             [
              0.3333333333333333,
              "#9c179e"
             ],
             [
              0.4444444444444444,
              "#bd3786"
             ],
             [
              0.5555555555555556,
              "#d8576b"
             ],
             [
              0.6666666666666666,
              "#ed7953"
             ],
             [
              0.7777777777777778,
              "#fb9f3a"
             ],
             [
              0.8888888888888888,
              "#fdca26"
             ],
             [
              1,
              "#f0f921"
             ]
            ],
            "type": "surface"
           }
          ],
          "table": [
           {
            "cells": {
             "fill": {
              "color": "#EBF0F8"
             },
             "line": {
              "color": "white"
             }
            },
            "header": {
             "fill": {
              "color": "#C8D4E3"
             },
             "line": {
              "color": "white"
             }
            },
            "type": "table"
           }
          ]
         },
         "layout": {
          "annotationdefaults": {
           "arrowcolor": "#2a3f5f",
           "arrowhead": 0,
           "arrowwidth": 1
          },
          "autotypenumbers": "strict",
          "coloraxis": {
           "colorbar": {
            "outlinewidth": 0,
            "ticks": ""
           }
          },
          "colorscale": {
           "diverging": [
            [
             0,
             "#8e0152"
            ],
            [
             0.1,
             "#c51b7d"
            ],
            [
             0.2,
             "#de77ae"
            ],
            [
             0.3,
             "#f1b6da"
            ],
            [
             0.4,
             "#fde0ef"
            ],
            [
             0.5,
             "#f7f7f7"
            ],
            [
             0.6,
             "#e6f5d0"
            ],
            [
             0.7,
             "#b8e186"
            ],
            [
             0.8,
             "#7fbc41"
            ],
            [
             0.9,
             "#4d9221"
            ],
            [
             1,
             "#276419"
            ]
           ],
           "sequential": [
            [
             0,
             "#0d0887"
            ],
            [
             0.1111111111111111,
             "#46039f"
            ],
            [
             0.2222222222222222,
             "#7201a8"
            ],
            [
             0.3333333333333333,
             "#9c179e"
            ],
            [
             0.4444444444444444,
             "#bd3786"
            ],
            [
             0.5555555555555556,
             "#d8576b"
            ],
            [
             0.6666666666666666,
             "#ed7953"
            ],
            [
             0.7777777777777778,
             "#fb9f3a"
            ],
            [
             0.8888888888888888,
             "#fdca26"
            ],
            [
             1,
             "#f0f921"
            ]
           ],
           "sequentialminus": [
            [
             0,
             "#0d0887"
            ],
            [
             0.1111111111111111,
             "#46039f"
            ],
            [
             0.2222222222222222,
             "#7201a8"
            ],
            [
             0.3333333333333333,
             "#9c179e"
            ],
            [
             0.4444444444444444,
             "#bd3786"
            ],
            [
             0.5555555555555556,
             "#d8576b"
            ],
            [
             0.6666666666666666,
             "#ed7953"
            ],
            [
             0.7777777777777778,
             "#fb9f3a"
            ],
            [
             0.8888888888888888,
             "#fdca26"
            ],
            [
             1,
             "#f0f921"
            ]
           ]
          },
          "colorway": [
           "#636efa",
           "#EF553B",
           "#00cc96",
           "#ab63fa",
           "#FFA15A",
           "#19d3f3",
           "#FF6692",
           "#B6E880",
           "#FF97FF",
           "#FECB52"
          ],
          "font": {
           "color": "#2a3f5f"
          },
          "geo": {
           "bgcolor": "white",
           "lakecolor": "white",
           "landcolor": "#E5ECF6",
           "showlakes": true,
           "showland": true,
           "subunitcolor": "white"
          },
          "hoverlabel": {
           "align": "left"
          },
          "hovermode": "closest",
          "mapbox": {
           "style": "light"
          },
          "paper_bgcolor": "white",
          "plot_bgcolor": "#E5ECF6",
          "polar": {
           "angularaxis": {
            "gridcolor": "white",
            "linecolor": "white",
            "ticks": ""
           },
           "bgcolor": "#E5ECF6",
           "radialaxis": {
            "gridcolor": "white",
            "linecolor": "white",
            "ticks": ""
           }
          },
          "scene": {
           "xaxis": {
            "backgroundcolor": "#E5ECF6",
            "gridcolor": "white",
            "gridwidth": 2,
            "linecolor": "white",
            "showbackground": true,
            "ticks": "",
            "zerolinecolor": "white"
           },
           "yaxis": {
            "backgroundcolor": "#E5ECF6",
            "gridcolor": "white",
            "gridwidth": 2,
            "linecolor": "white",
            "showbackground": true,
            "ticks": "",
            "zerolinecolor": "white"
           },
           "zaxis": {
            "backgroundcolor": "#E5ECF6",
            "gridcolor": "white",
            "gridwidth": 2,
            "linecolor": "white",
            "showbackground": true,
            "ticks": "",
            "zerolinecolor": "white"
           }
          },
          "shapedefaults": {
           "line": {
            "color": "#2a3f5f"
           }
          },
          "ternary": {
           "aaxis": {
            "gridcolor": "white",
            "linecolor": "white",
            "ticks": ""
           },
           "baxis": {
            "gridcolor": "white",
            "linecolor": "white",
            "ticks": ""
           },
           "bgcolor": "#E5ECF6",
           "caxis": {
            "gridcolor": "white",
            "linecolor": "white",
            "ticks": ""
           }
          },
          "title": {
           "x": 0.05
          },
          "xaxis": {
           "automargin": true,
           "gridcolor": "white",
           "linecolor": "white",
           "ticks": "",
           "title": {
            "standoff": 15
           },
           "zerolinecolor": "white",
           "zerolinewidth": 2
          },
          "yaxis": {
           "automargin": true,
           "gridcolor": "white",
           "linecolor": "white",
           "ticks": "",
           "title": {
            "standoff": 15
           },
           "zerolinecolor": "white",
           "zerolinewidth": 2
          }
         }
        },
        "title": {
         "text": "3D Scatter with Cluster Surfaces"
        }
       }
      }
     },
     "metadata": {},
     "output_type": "display_data"
    }
   ],
   "source": [
    "import plotly.graph_objects as go\n",
    "from scipy.spatial import ConvexHull\n",
    "\n",
    "center = KM.cluster_centers_\n",
    "\n",
    "# Create a DataFrame for the cluster centers\n",
    "centers_df = pd.DataFrame(center, columns=['PCA Component 1', 'PCA Component 2', 'PCA Component 3'])\n",
    "centers_df['cluster'] = range(len(center))  # Add a cluster index for center points\n",
    "\n",
    "\n",
    "\n",
    "# Create scatter plot\n",
    "scatter = go.Scatter3d(\n",
    "    x=pca_df['PCA Component 1'],\n",
    "    y=pca_df['PCA Component 2'],\n",
    "    z=pca_df['PCA Component 3'],\n",
    "    mode='markers',\n",
    "    marker=dict(\n",
    "        size=5,\n",
    "        color=pca_df['Cabin'],  # Color by cluster\n",
    "        colorscale='Viridis',  # Customize color scale\n",
    "        opacity=0.8\n",
    "    ),\n",
    "    text=pca_df['Cabin'],  # Tooltip showing the cabin name\n",
    "    name='Clusters'\n",
    ")\n",
    "\n",
    "# Create a surface for each cluster (using Convex Hull for simplicity)\n",
    "cluster_surfaces = []\n",
    "\n",
    "# Loop through each cluster and create a convex hull surface\n",
    "for cluster_id in pca_df['cluster'].unique():\n",
    "    cluster_points = pca_df[pca_df['cluster'] == cluster_id]\n",
    "    points = cluster_points[['PCA Component 1', 'PCA Component 2', 'PCA Component 3']].values\n",
    "    \n",
    "    # Convex Hull to wrap the points in each cluster\n",
    "    hull = ConvexHull(points)\n",
    "    \n",
    "    # Extract the vertices of the convex hull\n",
    "    x_hull = points[hull.vertices, 0]\n",
    "    y_hull = points[hull.vertices, 1]\n",
    "    z_hull = points[hull.vertices, 2]\n",
    "    \n",
    "    # Create a surface for this convex hull\n",
    "    cluster_surface = go.Mesh3d(\n",
    "        x=x_hull,\n",
    "        y=y_hull,\n",
    "        z=z_hull,\n",
    "        opacity=0.3,  # Surface opacity\n",
    "        color=f'rgba({cluster_id * 50}, {cluster_id * 80}, {cluster_id * 100}, 0.5)',  # Cluster-based color\n",
    "        name=f'Cluster {cluster_id} Surface'\n",
    "    )\n",
    "    \n",
    "    cluster_surfaces.append(cluster_surface)\n",
    "\n",
    "cluster_centers = go.Scatter3d(\n",
    "    x= center[:, 0],\n",
    "    y= center[:, 1],\n",
    "    z= center[:, 2],\n",
    "    mode='markers',\n",
    "    marker=dict(\n",
    "        size=10,\n",
    "        color='red',  # Distinct color for cluster centers\n",
    "        symbol='diamond',  # Use a different shape for cluster centers\n",
    "        opacity=1.0\n",
    "    ),\n",
    "    name='Cluster Centers'\n",
    ")\n",
    "\n",
    "# Create the final plot with scatter and surfaces\n",
    "fig = go.Figure(data=[scatter, cluster_centers] + cluster_surfaces)\n",
    "\n",
    "# Set layout\n",
    "fig.update_layout(\n",
    "    title=\"3D Scatter with Cluster Surfaces\",\n",
    "    scene=dict(\n",
    "        xaxis_title='PCA Component 1',\n",
    "        yaxis_title='PCA Component 2',\n",
    "        zaxis_title='PCA Component 3'\n",
    "    ),\n",
    "    showlegend=True\n",
    ")\n",
    "\n",
    "# Show plot\n",
    "fig.show()"
   ]
  }
 ],
 "metadata": {
  "kernelspec": {
   "display_name": "base",
   "language": "python",
   "name": "python3"
  },
  "language_info": {
   "codemirror_mode": {
    "name": "ipython",
    "version": 3
   },
   "file_extension": ".py",
   "mimetype": "text/x-python",
   "name": "python",
   "nbconvert_exporter": "python",
   "pygments_lexer": "ipython3",
   "version": "3.9.12"
  }
 },
 "nbformat": 4,
 "nbformat_minor": 2
}
